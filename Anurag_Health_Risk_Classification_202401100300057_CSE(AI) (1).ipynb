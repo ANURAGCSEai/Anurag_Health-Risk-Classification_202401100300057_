{
  "nbformat": 4,
  "nbformat_minor": 0,
  "metadata": {
    "colab": {
      "provenance": []
    },
    "kernelspec": {
      "name": "python3",
      "display_name": "Python 3"
    },
    "language_info": {
      "name": "python"
    }
  },
  "cells": [
    {
      "cell_type": "code",
      "source": [],
      "metadata": {
        "id": "_qNYiK_N1uzA"
      },
      "execution_count": null,
      "outputs": []
    },
    {
      "cell_type": "markdown",
      "source": [
        "Data prepration"
      ],
      "metadata": {
        "id": "TqLSSziC2FrX"
      }
    },
    {
      "cell_type": "code",
      "source": [
        "import pandas as pd\n",
        "import numpy as np\n",
        "\n",
        "# Sample data\n",
        "np.random.seed(42)\n",
        "n_samples = 200\n",
        "data = pd.DataFrame({\n",
        "    'BMI': np.random.normal(25, 5, n_samples),\n",
        "    'Exercise': np.random.randint(0, 6, n_samples),  # 0 to 5 times/week\n",
        "    'EatingHabits': np.random.choice(['poor', 'average', 'good'], n_samples),\n",
        "    'Risk': np.random.choice(['low', 'medium', 'high'], n_samples)\n",
        "})\n"
      ],
      "metadata": {
        "id": "-x3iG0Gc2Ixl"
      },
      "execution_count": 4,
      "outputs": []
    },
    {
      "cell_type": "markdown",
      "source": [
        "Processing"
      ],
      "metadata": {
        "id": "r9bJ2nWS2oBx"
      }
    },
    {
      "cell_type": "code",
      "source": [
        "from sklearn.preprocessing import LabelEncoder\n",
        "\n",
        "label_enc = LabelEncoder()\n",
        "data['EatingHabits'] = label_enc.fit_transform(data['EatingHabits'])  # poor:0, avg:1, good:2\n",
        "data['Risk'] = label_enc.fit_transform(data['Risk'])  # low:1, medium:2, high:0 (example)\n"
      ],
      "metadata": {
        "id": "kvQLy3qH2r-9"
      },
      "execution_count": 5,
      "outputs": []
    },
    {
      "cell_type": "markdown",
      "source": [
        "Train / Test slip"
      ],
      "metadata": {
        "id": "AnF2KALE22l2"
      }
    },
    {
      "cell_type": "code",
      "source": [
        "from sklearn.model_selection import train_test_split\n",
        "\n",
        "X = data[['BMI', 'Exercise', 'EatingHabits']]\n",
        "y = data['Risk']\n",
        "\n",
        "X_train, X_test, y_train, y_test = train_test_split(X, y, test_size=0.2, random_state=42)\n"
      ],
      "metadata": {
        "id": "5Skdh_-t27WB"
      },
      "execution_count": 6,
      "outputs": []
    },
    {
      "cell_type": "markdown",
      "source": [
        "Model Training"
      ],
      "metadata": {
        "id": "HQ3UGdIJ3Lwa"
      }
    },
    {
      "cell_type": "code",
      "source": [
        "from sklearn.ensemble import RandomForestClassifier\n",
        "\n",
        "clf = RandomForestClassifier()\n",
        "clf.fit(X_train, y_train)\n",
        "y_pred = clf.predict(X_test)\n"
      ],
      "metadata": {
        "id": "11swbXo83QTq"
      },
      "execution_count": 7,
      "outputs": []
    },
    {
      "cell_type": "markdown",
      "source": [
        "Evolution Matrix + Confusion Matrix"
      ],
      "metadata": {
        "id": "NuBx6M7e3flC"
      }
    },
    {
      "cell_type": "code",
      "source": [
        "from sklearn.metrics import accuracy_score, precision_score, recall_score, confusion_matrix, classification_report\n",
        "import seaborn as sns\n",
        "import matplotlib.pyplot as plt\n",
        "\n",
        "# Metrics\n",
        "accuracy = accuracy_score(y_test, y_pred)\n",
        "precision = precision_score(y_test, y_pred, average='weighted')  # multi-class\n",
        "recall = recall_score(y_test, y_pred, average='weighted')\n",
        "\n",
        "print(f\"Accuracy: {accuracy:.2f}\")\n",
        "print(f\"Precision: {precision:.2f}\")\n",
        "print(f\"Recall: {recall:.2f}\")\n",
        "print(\"\\nClassification Report:\\n\", classification_report(y_test, y_pred))\n",
        "\n",
        "# Confusion Matrix Heatmap\n",
        "cm = confusion_matrix(y_test, y_pred)\n",
        "sns.heatmap(cm, annot=True, fmt=\"d\", cmap=\"Blues\", xticklabels=label_enc.classes_, yticklabels=label_enc.classes_)\n",
        "plt.xlabel(\"Predicted\")\n",
        "plt.ylabel(\"Actual\")\n",
        "plt.title(\"Confusion Matrix - Health Risk Classification\")\n",
        "plt.show()\n"
      ],
      "metadata": {
        "colab": {
          "base_uri": "https://localhost:8080/",
          "height": 732
        },
        "id": "1RHNHdr73ji5",
        "outputId": "289f1f08-62fb-4b95-ea5f-fb8c226baeb4"
      },
      "execution_count": 8,
      "outputs": [
        {
          "output_type": "stream",
          "name": "stdout",
          "text": [
            "Accuracy: 0.20\n",
            "Precision: 0.27\n",
            "Recall: 0.20\n",
            "\n",
            "Classification Report:\n",
            "               precision    recall  f1-score   support\n",
            "\n",
            "           0       0.40      0.19      0.26        21\n",
            "           1       0.13      0.25      0.17         8\n",
            "           2       0.13      0.18      0.15        11\n",
            "\n",
            "    accuracy                           0.20        40\n",
            "   macro avg       0.22      0.21      0.20        40\n",
            "weighted avg       0.27      0.20      0.21        40\n",
            "\n"
          ]
        },
        {
          "output_type": "display_data",
          "data": {
            "text/plain": [
              "<Figure size 640x480 with 2 Axes>"
            ],
            "image/png": "[encoded data removed]"
          },
          "metadata": {}
        }
      ]
    },
    {
      "cell_type": "markdown",
      "source": [],
      "metadata": {
        "id": "91UaAFq31xLY"
      }
    },
    {
      "cell_type": "markdown",
      "source": [
        "# New section"
      ],
      "metadata": {
        "id": "m7WnQHgt1CZL"
      }
    }
  ]
}